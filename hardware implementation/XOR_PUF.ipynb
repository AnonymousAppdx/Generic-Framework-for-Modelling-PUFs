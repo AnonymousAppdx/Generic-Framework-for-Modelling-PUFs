{
 "cells": [
  {
   "cell_type": "code",
   "execution_count": 110,
   "metadata": {},
   "outputs": [],
   "source": [
    "from pynq import Overlay, Xlnk, MMIO, Interrupt, GPIO\n",
    "import pynq.lib.dma\n",
    "import numpy as np\n",
    "from pynq import allocate\n",
    "import asyncio\n",
    "# PUF_debug.bit is the basic Arbiter PUF\n",
    "puf = Overlay(\"./app/puf_axi/PUF_XOR7_stable.bit\")\n",
    "# puf = Overlay(\"./app/puf_axi/PUF_XOR2.bit\")\n",
    "# puf = Overlay(\"./app/puf_axi/PUF_1020.bit\")\n",
    "puf.download()\n",
    "PUF = puf.pl_ram_ctrl_0\n",
    "bram = puf.axi_bram_ctrl_0\n",
    "def concat_uint32_to_uint64(uint32_1, uint32_2):\n",
    "    # 将第一个uint32左移32位，然后与第二个uint32进行按位或运算\n",
    "    uint64_result = (uint32_1 << 32) | uint32_2\n",
    "    return np.uint64(uint64_result)\n",
    "Len = 103\n",
    "BRAM_BYTENUM = 4\n",
    "len = np.uint32(Len*BRAM_BYTENUM)\n",
    "valid_L = 46\n",
    "# intr = puf.axi_intc_0\n",
    "# gpio = puf.axi_gpio_0"
   ]
  },
  {
   "cell_type": "code",
   "execution_count": 72,
   "metadata": {},
   "outputs": [
    {
     "data": {
      "application/json": {
       "axi_bram_ctrl_0": {
        "addr_range": 4096,
        "device": "<pynq.pl_server.device.XlnkDevice object at 0xb0288990>",
        "driver": "<class 'pynq.overlay.DefaultIP'>",
        "fullpath": "axi_bram_ctrl_0",
        "gpio": {},
        "interrupts": {},
        "mem_id": "S_AXI",
        "parameters": {
         "BMG_INSTANCE": "EXTERNAL",
         "C_BRAM_ADDR_WIDTH": "10",
         "C_BRAM_INST_MODE": "EXTERNAL",
         "C_ECC": "0",
         "C_ECC_ONOFF_RESET_VALUE": "0",
         "C_ECC_TYPE": "0",
         "C_FAMILY": "zynq",
         "C_FAULT_INJECT": "0",
         "C_MEMORY_DEPTH": "1024",
         "C_RD_CMD_OPTIMIZATION": "0",
         "C_READ_LATENCY": "1",
         "C_SINGLE_PORT_BRAM": "1",
         "C_S_AXI_ADDR_WIDTH": "12",
         "C_S_AXI_BASEADDR": "0x40000000",
         "C_S_AXI_CTRL_ADDR_WIDTH": "32",
         "C_S_AXI_CTRL_DATA_WIDTH": "32",
         "C_S_AXI_DATA_WIDTH": "32",
         "C_S_AXI_HIGHADDR": "0x40000FFF",
         "C_S_AXI_ID_WIDTH": "1",
         "C_S_AXI_PROTOCOL": "AXI4",
         "C_S_AXI_SUPPORTS_NARROW_BURST": "0",
         "Component_Name": "top_axi_bram_ctrl_0_0",
         "DATA_WIDTH": "32",
         "ECC_ONOFF_RESET_VALUE": "0",
         "ECC_TYPE": "0",
         "EDK_IPTYPE": "PERIPHERAL",
         "EDK_SPECIAL": "BRAM_CTRL",
         "FAULT_INJECT": "0",
         "ID_WIDTH": "0",
         "MEM_DEPTH": "1024",
         "PROTOCOL": "AXI4",
         "RD_CMD_OPTIMIZATION": "0",
         "READ_LATENCY": "1",
         "SINGLE_PORT_BRAM": "1",
         "SUPPORTS_NARROW_BURST": "0",
         "USE_ECC": "0"
        },
        "phys_addr": 1073741824,
        "registers": {
         "CE_CNT": {
          "access": "read-write",
          "address_offset": 12,
          "description": "Correctable Error Counter Register",
          "fields": {
           "CE_CNT": {
            "access": "read-write",
            "bit_offset": 0,
            "bit_width": 8,
            "description": "Correctable Error Counter Register"
           }
          },
          "size": 1
         },
         "CE_FFA0": {
          "access": "read-only",
          "address_offset": 448,
          "description": "Correctable Error First Failing Address Register, bits [31:0]",
          "fields": {
           "CE_FFA0": {
            "access": "read-only",
            "bit_offset": 0,
            "bit_width": 32,
            "description": "Correctable Error First Failing Address Register, bits [31:0]"
           }
          },
          "size": 1
         },
         "CE_FFA1": {
          "access": "read-only",
          "address_offset": 452,
          "description": "Correctable Error First Failing Address Register, bits [63:32]",
          "fields": {
           "CE_FFA1": {
            "access": "read-only",
            "bit_offset": 0,
            "bit_width": 32,
            "description": "Correctable Error First Failing Address Register, bits [63:32]"
           }
          },
          "size": 1
         },
         "ECC_EN_IRQ": {
          "access": "read-write",
          "address_offset": 4,
          "description": "ECC Enable Interrupt Register",
          "fields": {
           "CE_EN_IRQ": {
            "access": "read-write",
            "bit_offset": 1,
            "bit_width": 1,
            "description": "ECC Enable Interrupt Register"
           },
           "UE_EN_IRQ": {
            "access": "read-write",
            "bit_offset": 0,
            "bit_width": 1,
            "description": "ECC Enable Interrupt Register"
           }
          },
          "size": 1
         },
         "ECC_ON_OFF": {
          "access": "read-write",
          "address_offset": 8,
          "description": "ECC On/Off Register",
          "fields": {
           "ECC_ON_OFF": {
            "access": "read-write",
            "bit_offset": 0,
            "bit_width": 1,
            "description": "ECC On/Off Register"
           }
          },
          "size": 1
         },
         "ECC_STATUS": {
          "access": "read-write",
          "address_offset": 0,
          "description": "ECC Status Register",
          "fields": {
           "CE_STATUS": {
            "access": "read-write",
            "bit_offset": 1,
            "bit_width": 1,
            "description": "ECC Status Register"
           },
           "UE_STATUS": {
            "access": "read-write",
            "bit_offset": 0,
            "bit_width": 1,
            "description": "ECC Status Register"
           }
          },
          "size": 1
         },
         "FI_D0": {
          "access": "write-only",
          "address_offset": 768,
          "description": "Fault Inject Data Register, bits[31:0]",
          "fields": {
           "FI_D0": {
            "access": "read-only",
            "bit_offset": 0,
            "bit_width": 32,
            "description": "Fault Inject Data Register, bits[31:0]"
           }
          },
          "size": 1
         },
         "FI_D1": {
          "access": "write-only",
          "address_offset": 772,
          "description": "Fault Inject Data Register, bits[63:32]",
          "fields": {
           "FI_D1": {
            "access": "read-only",
            "bit_offset": 0,
            "bit_width": 32,
            "description": "Fault Inject Data Register, bits[63:32]"
           }
          },
          "size": 1
         },
         "FI_D2": {
          "access": "write-only",
          "address_offset": 776,
          "description": "Fault Inject Data Register, bits[95:64]",
          "fields": {
           "FI_D2": {
            "access": "read-only",
            "bit_offset": 0,
            "bit_width": 32,
            "description": "Fault Inject Data Register, bits[95:64]"
           }
          },
          "size": 1
         },
         "FI_D3": {
          "access": "write-only",
          "address_offset": 780,
          "description": "Fault Inject Data Register, bits[127:96]",
          "fields": {
           "FI_D3": {
            "access": "read-only",
            "bit_offset": 0,
            "bit_width": 32,
            "description": "Fault Inject Data Register, bits[127:96]"
           }
          },
          "size": 1
         },
         "FI_ECC": {
          "access": "write-only",
          "address_offset": 896,
          "description": "Fault Inject ECC Register",
          "fields": {
           "FI_ECC": {
            "access": "read-only",
            "bit_offset": 0,
            "bit_width": 32,
            "description": "Fault Inject ECC Register"
           }
          },
          "size": 1
         },
         "UE_FFD1": {
          "access": "read-only",
          "address_offset": 516,
          "description": "Uncorrectable Error First Failing Data Register , bits [63:32]",
          "fields": {
           "UE_FFD": {
            "access": "read-only",
            "bit_offset": 0,
            "bit_width": 32,
            "description": "Uncorrectable Error First Failing Data Register , bits [63:32]"
           }
          },
          "size": 1
         },
         "UE_FFD2": {
          "access": "read-only",
          "address_offset": 520,
          "description": "Uncorrectable Error First Failing Data Register , bits [95:64]",
          "fields": {
           "UE_FFD": {
            "access": "read-only",
            "bit_offset": 0,
            "bit_width": 32,
            "description": "Uncorrectable Error First Failing Data Register , bits [95:64]"
           }
          },
          "size": 1
         },
         "UE_FFD3": {
          "access": "read-only",
          "address_offset": 524,
          "description": "Uncorrectable Error First Failing Data Register , bits [127:96]",
          "fields": {
           "UE_FFD": {
            "access": "read-only",
            "bit_offset": 0,
            "bit_width": 32,
            "description": "Uncorrectable Error First Failing Data Register , bits [127:96]"
           }
          },
          "size": 1
         }
        },
        "state": null,
        "type": "xilinx.com:ip:axi_bram_ctrl:4.1"
       },
       "axi_gpio_0": {
        "addr_range": 4096,
        "device": "<pynq.pl_server.device.XlnkDevice object at 0xb0288990>",
        "driver": "<class 'pynq.lib.axigpio.AxiGPIO'>",
        "fullpath": "axi_gpio_0",
        "gpio": {},
        "interrupts": {
         "ip2intc_irpt": {
          "controller": "axi_intc_0",
          "fullpath": "axi_gpio_0/ip2intc_irpt",
          "index": 0
         }
        },
        "mem_id": "S_AXI",
        "parameters": {
         "C_ALL_INPUTS": "1",
         "C_ALL_INPUTS_2": "0",
         "C_ALL_OUTPUTS": "0",
         "C_ALL_OUTPUTS_2": "0",
         "C_BASEADDR": "0x41200000",
         "C_DOUT_DEFAULT": "0x00000000",
         "C_DOUT_DEFAULT_2": "0x00000000",
         "C_FAMILY": "zynq",
         "C_GPIO2_WIDTH": "32",
         "C_GPIO_WIDTH": "1",
         "C_HIGHADDR": "0x41200FFF",
         "C_INTERRUPT_PRESENT": "1",
         "C_IS_DUAL": "0",
         "C_S_AXI_ADDR_WIDTH": "9",
         "C_S_AXI_DATA_WIDTH": "32",
         "C_TRI_DEFAULT": "0xFFFFFFFF",
         "C_TRI_DEFAULT_2": "0xFFFFFFFF",
         "Component_Name": "top_axi_gpio_0_0",
         "EDK_IPTYPE": "PERIPHERAL",
         "GPIO2_BOARD_INTERFACE": "Custom",
         "GPIO_BOARD_INTERFACE": "Custom",
         "USE_BOARD_FLOW": "false"
        },
        "phys_addr": 1092616192,
        "registers": {
         "GIER": {
          "access": "read-write",
          "address_offset": 284,
          "description": "Global_Interrupt_Enable register",
          "fields": {
           "Global_Interrupt_Enable": {
            "access": "read-write",
            "bit_offset": 31,
            "bit_width": 1,
            "description": "Global_Interrupt_Enable register"
           }
          },
          "size": 32
         },
         "GPIO2_DATA": {
          "access": "read-write",
          "address_offset": 8,
          "description": "Channel-2 AXI GPIO Data register",
          "fields": {
           "Channel_2_GPIO_DATA": {
            "access": "read-write",
            "bit_offset": 0,
            "bit_width": 32,
            "description": "Channel-2 AXI GPIO Data register"
           }
          },
          "size": 32
         },
         "GPIO2_TRI": {
          "access": "read-write",
          "address_offset": 12,
          "description": "Channel-2 AXI GPIO 3-State Control register",
          "fields": {
           "Channel_2_GPIO_TRI": {
            "access": "read-write",
            "bit_offset": 0,
            "bit_width": 32,
            "description": "Channel-2 AXI GPIO 3-State Control register"
           }
          },
          "size": 32
         },
         "GPIO_DATA": {
          "access": "read-write",
          "address_offset": 0,
          "description": "Channel-1 AXI GPIO Data register",
          "fields": {
           "Channel_1_GPIO_DATA": {
            "access": "read-write",
            "bit_offset": 0,
            "bit_width": 1,
            "description": "Channel-1 AXI GPIO Data register"
           }
          },
          "size": 1
         },
         "GPIO_TRI": {
          "access": "read-write",
          "address_offset": 4,
          "description": "Channel-1 AXI GPIO 3-State Control register",
          "fields": {
           "Channel_1_GPIO_TRI": {
            "access": "read-write",
            "bit_offset": 0,
            "bit_width": 1,
            "description": "Channel-1 AXI GPIO 3-State Control register"
           }
          },
          "size": 1
         },
         "IP_IER": {
          "access": "read-write",
          "address_offset": 296,
          "description": "IP Interrupt Enable register",
          "fields": {
           "Channel_1_Interrupt_Enable": {
            "access": "read-write",
            "bit_offset": 0,
            "bit_width": 1,
            "description": "IP Interrupt Enable register"
           },
           "Channel_2_Interrupt_Enable": {
            "access": "read-write",
            "bit_offset": 1,
            "bit_width": 1,
            "description": "IP Interrupt Enable register"
           }
          },
          "size": 32
         },
         "IP_ISR": {
          "access": "read-write",
          "address_offset": 288,
          "description": "IP Interrupt Status register",
          "fields": {
           "Channel_1_Interrupt_Status": {
            "access": "read-write",
            "bit_offset": 0,
            "bit_width": 1,
            "description": "IP Interrupt Status register"
           },
           "Channel_2_Interrupt_Status": {
            "access": "read-write",
            "bit_offset": 1,
            "bit_width": 1,
            "description": "IP Interrupt Status register"
           }
          },
          "size": 32
         }
        },
        "state": null,
        "type": "xilinx.com:ip:axi_gpio:2.0"
       },
       "axi_intc_0": {
        "addr_range": 65536,
        "device": "<pynq.pl_server.device.XlnkDevice object at 0xb0288990>",
        "driver": "<class 'pynq.overlay.DefaultIP'>",
        "fullpath": "axi_intc_0",
        "gpio": {},
        "interrupts": {
         "intr": {
          "controller": "axi_intc_0",
          "fullpath": "axi_intc_0/intr",
          "index": 0
         }
        },
        "mem_id": "s_axi",
        "parameters": {
         "C_ADDR_WIDTH": "32",
         "C_ASYNC_INTR": "0xFFFFFFFE",
         "C_BASEADDR": "0x41800000",
         "C_CASCADE_MASTER": "0",
         "C_DISABLE_SYNCHRONIZERS": "0",
         "C_ENABLE_ASYNC": "0",
         "C_EN_CASCADE_MODE": "0",
         "C_FAMILY": "zynq",
         "C_HAS_CIE": "1",
         "C_HAS_FAST": "0",
         "C_HAS_ILR": "0",
         "C_HAS_IPR": "1",
         "C_HAS_IVR": "1",
         "C_HAS_SIE": "1",
         "C_HIGHADDR": "0x4180FFFF",
         "C_INSTANCE": "top_axi_intc_0_0",
         "C_IRQ_ACTIVE": "0x1",
         "C_IRQ_CONNECTION": "0",
         "C_IRQ_IS_LEVEL": "1",
         "C_IVAR_RESET_VALUE": "0x0000000000000010",
         "C_KIND_OF_EDGE": "0xFFFFFFFF",
         "C_KIND_OF_INTR": "0xfffffffe",
         "C_KIND_OF_LVL": "0xFFFFFFFF",
         "C_MB_CLK_NOT_CONNECTED": "1",
         "C_NUM_INTR_INPUTS": "1",
         "C_NUM_SW_INTR": "0",
         "C_NUM_SYNC_FF": "2",
         "C_PROCESSOR_CLK_FREQ_MHZ": "100.0",
         "C_S_AXI_ACLK_FREQ_MHZ": "50.0",
         "C_S_AXI_ADDR_WIDTH": "9",
         "C_S_AXI_DATA_WIDTH": "32",
         "Component_Name": "top_axi_intc_0_0",
         "EDK_IPTYPE": "PERIPHERAL",
         "EDK_SPECIAL": "INTR_CTRL",
         "Sense_of_IRQ_Edge_Type": "Rising",
         "Sense_of_IRQ_Level_Type": "Active_High"
        },
        "phys_addr": 1098907648,
        "registers": {
         "CIE": {
          "access": "read-write",
          "address_offset": 20,
          "description": "Clear Interrupt Enables",
          "fields": {
           "INT": {
            "access": "read-write",
            "bit_offset": 0,
            "bit_width": 1,
            "description": "Clear Interrupt Enables"
           }
          },
          "size": 1
         },
         "IAR": {
          "access": "write-only",
          "address_offset": 12,
          "description": "Interrupt Acknowledge Register",
          "fields": {
           "INT": {
            "access": "write-only",
            "bit_offset": 0,
            "bit_width": 1,
            "description": "Interrupt Acknowledge Register"
           }
          },
          "size": 1
         },
         "IER": {
          "access": "read-write",
          "address_offset": 8,
          "description": "Interrupt Enable Register",
          "fields": {
           "INT": {
            "access": "read-write",
            "bit_offset": 0,
            "bit_width": 1,
            "description": "Interrupt Enable Register"
           }
          },
          "size": 1
         },
         "ILR": {
          "access": "read-write",
          "address_offset": 36,
          "description": "Interrupt Level Register",
          "fields": {
           "ILN": {
            "access": "read-write",
            "bit_offset": 0,
            "bit_width": 5,
            "description": "Interrupt Level Register"
           }
          },
          "size": 5
         },
         "IMR": {
          "access": "read-write",
          "address_offset": 32,
          "description": "Interrupt Mode Register",
          "fields": {
           "INT": {
            "access": "read-write",
            "bit_offset": 0,
            "bit_width": 1,
            "description": "Interrupt Mode Register"
           }
          },
          "size": 1
         },
         "IPR": {
          "access": "read-only",
          "address_offset": 4,
          "description": "Interrupt Pending Register",
          "fields": {
           "INT": {
            "access": "read-only",
            "bit_offset": 0,
            "bit_width": 1,
            "description": "Interrupt Pending Register"
           }
          },
          "size": 1
         },
         "ISR": {
          "access": "read-write",
          "address_offset": 0,
          "description": "Interrupt Status Register",
          "fields": {
           "INT": {
            "access": "read-write",
            "bit_offset": 0,
            "bit_width": 1,
            "description": "Interrupt Status Register"
           }
          },
          "size": 1
         },
         "IVAR[0]": {
          "access": "read-write",
          "address_offset": 256,
          "description": "Interrupt Vector Address Register 0",
          "fields": {
           "IVA": {
            "access": "read-write",
            "bit_offset": 0,
            "bit_width": 32,
            "description": "Interrupt Vector Address Register 0"
           }
          },
          "size": 32
         },
         "IVAR[10]": {
          "access": "read-write",
          "address_offset": 296,
          "description": "Interrupt Vector Address Register 10",
          "fields": {
           "IVA": {
            "access": "read-write",
            "bit_offset": 0,
            "bit_width": 32,
            "description": "Interrupt Vector Address Register 10"
           }
          },
          "size": 32
         },
         "IVAR[11]": {
          "access": "read-write",
          "address_offset": 300,
          "description": "Interrupt Vector Address Register 11",
          "fields": {
           "IVA": {
            "access": "read-write",
            "bit_offset": 0,
            "bit_width": 32,
            "description": "Interrupt Vector Address Register 11"
           }
          },
          "size": 32
         },
         "IVAR[12]": {
          "access": "read-write",
          "address_offset": 304,
          "description": "Interrupt Vector Address Register 12",
          "fields": {
           "IVA": {
            "access": "read-write",
            "bit_offset": 0,
            "bit_width": 32,
            "description": "Interrupt Vector Address Register 12"
           }
          },
          "size": 32
         },
         "IVAR[13]": {
          "access": "read-write",
          "address_offset": 308,
          "description": "Interrupt Vector Address Register 13",
          "fields": {
           "IVA": {
            "access": "read-write",
            "bit_offset": 0,
            "bit_width": 32,
            "description": "Interrupt Vector Address Register 13"
           }
          },
          "size": 32
         },
         "IVAR[14]": {
          "access": "read-write",
          "address_offset": 312,
          "description": "Interrupt Vector Address Register 14",
          "fields": {
           "IVA": {
            "access": "read-write",
            "bit_offset": 0,
            "bit_width": 32,
            "description": "Interrupt Vector Address Register 14"
           }
          },
          "size": 32
         },
         "IVAR[15]": {
          "access": "read-write",
          "address_offset": 316,
          "description": "Interrupt Vector Address Register 15",
          "fields": {
           "IVA": {
            "access": "read-write",
            "bit_offset": 0,
            "bit_width": 32,
            "description": "Interrupt Vector Address Register 15"
           }
          },
          "size": 32
         },
         "IVAR[16]": {
          "access": "read-write",
          "address_offset": 320,
          "description": "Interrupt Vector Address Register 16",
          "fields": {
           "IVA": {
            "access": "read-write",
            "bit_offset": 0,
            "bit_width": 32,
            "description": "Interrupt Vector Address Register 16"
           }
          },
          "size": 32
         },
         "IVAR[17]": {
          "access": "read-write",
          "address_offset": 324,
          "description": "Interrupt Vector Address Register 17",
          "fields": {
           "IVA": {
            "access": "read-write",
            "bit_offset": 0,
            "bit_width": 32,
            "description": "Interrupt Vector Address Register 17"
           }
          },
          "size": 32
         },
         "IVAR[18]": {
          "access": "read-write",
          "address_offset": 328,
          "description": "Interrupt Vector Address Register 18",
          "fields": {
           "IVA": {
            "access": "read-write",
            "bit_offset": 0,
            "bit_width": 32,
            "description": "Interrupt Vector Address Register 18"
           }
          },
          "size": 32
         },
         "IVAR[19]": {
          "access": "read-write",
          "address_offset": 332,
          "description": "Interrupt Vector Address Register 19",
          "fields": {
           "IVA": {
            "access": "read-write",
            "bit_offset": 0,
            "bit_width": 32,
            "description": "Interrupt Vector Address Register 19"
           }
          },
          "size": 32
         },
         "IVAR[1]": {
          "access": "read-write",
          "address_offset": 260,
          "description": "Interrupt Vector Address Register 1",
          "fields": {
           "IVA": {
            "access": "read-write",
            "bit_offset": 0,
            "bit_width": 32,
            "description": "Interrupt Vector Address Register 1"
           }
          },
          "size": 32
         },
         "IVAR[20]": {
          "access": "read-write",
          "address_offset": 336,
          "description": "Interrupt Vector Address Register 20",
          "fields": {
           "IVA": {
            "access": "read-write",
            "bit_offset": 0,
            "bit_width": 32,
            "description": "Interrupt Vector Address Register 20"
           }
          },
          "size": 32
         },
         "IVAR[21]": {
          "access": "read-write",
          "address_offset": 340,
          "description": "Interrupt Vector Address Register 21",
          "fields": {
           "IVA": {
            "access": "read-write",
            "bit_offset": 0,
            "bit_width": 32,
            "description": "Interrupt Vector Address Register 21"
           }
          },
          "size": 32
         },
         "IVAR[22]": {
          "access": "read-write",
          "address_offset": 344,
          "description": "Interrupt Vector Address Register 22",
          "fields": {
           "IVA": {
            "access": "read-write",
            "bit_offset": 0,
            "bit_width": 32,
            "description": "Interrupt Vector Address Register 22"
           }
          },
          "size": 32
         },
         "IVAR[23]": {
          "access": "read-write",
          "address_offset": 348,
          "description": "Interrupt Vector Address Register 23",
          "fields": {
           "IVA": {
            "access": "read-write",
            "bit_offset": 0,
            "bit_width": 32,
            "description": "Interrupt Vector Address Register 23"
           }
          },
          "size": 32
         },
         "IVAR[24]": {
          "access": "read-write",
          "address_offset": 352,
          "description": "Interrupt Vector Address Register 24",
          "fields": {
           "IVA": {
            "access": "read-write",
            "bit_offset": 0,
            "bit_width": 32,
            "description": "Interrupt Vector Address Register 24"
           }
          },
          "size": 32
         },
         "IVAR[25]": {
          "access": "read-write",
          "address_offset": 356,
          "description": "Interrupt Vector Address Register 25",
          "fields": {
           "IVA": {
            "access": "read-write",
            "bit_offset": 0,
            "bit_width": 32,
            "description": "Interrupt Vector Address Register 25"
           }
          },
          "size": 32
         },
         "IVAR[26]": {
          "access": "read-write",
          "address_offset": 360,
          "description": "Interrupt Vector Address Register 26",
          "fields": {
           "IVA": {
            "access": "read-write",
            "bit_offset": 0,
            "bit_width": 32,
            "description": "Interrupt Vector Address Register 26"
           }
          },
          "size": 32
         },
         "IVAR[27]": {
          "access": "read-write",
          "address_offset": 364,
          "description": "Interrupt Vector Address Register 27",
          "fields": {
           "IVA": {
            "access": "read-write",
            "bit_offset": 0,
            "bit_width": 32,
            "description": "Interrupt Vector Address Register 27"
           }
          },
          "size": 32
         },
         "IVAR[28]": {
          "access": "read-write",
          "address_offset": 368,
          "description": "Interrupt Vector Address Register 28",
          "fields": {
           "IVA": {
            "access": "read-write",
            "bit_offset": 0,
            "bit_width": 32,
            "description": "Interrupt Vector Address Register 28"
           }
          },
          "size": 32
         },
         "IVAR[29]": {
          "access": "read-write",
          "address_offset": 372,
          "description": "Interrupt Vector Address Register 29",
          "fields": {
           "IVA": {
            "access": "read-write",
            "bit_offset": 0,
            "bit_width": 32,
            "description": "Interrupt Vector Address Register 29"
           }
          },
          "size": 32
         },
         "IVAR[2]": {
          "access": "read-write",
          "address_offset": 264,
          "description": "Interrupt Vector Address Register 2",
          "fields": {
           "IVA": {
            "access": "read-write",
            "bit_offset": 0,
            "bit_width": 32,
            "description": "Interrupt Vector Address Register 2"
           }
          },
          "size": 32
         },
         "IVAR[30]": {
          "access": "read-write",
          "address_offset": 376,
          "description": "Interrupt Vector Address Register 30",
          "fields": {
           "IVA": {
            "access": "read-write",
            "bit_offset": 0,
            "bit_width": 32,
            "description": "Interrupt Vector Address Register 30"
           }
          },
          "size": 32
         },
         "IVAR[31]": {
          "access": "read-write",
          "address_offset": 380,
          "description": "Interrupt Vector Address Register 31",
          "fields": {
           "IVA": {
            "access": "read-write",
            "bit_offset": 0,
            "bit_width": 32,
            "description": "Interrupt Vector Address Register 31"
           }
          },
          "size": 32
         },
         "IVAR[3]": {
          "access": "read-write",
          "address_offset": 268,
          "description": "Interrupt Vector Address Register 3",
          "fields": {
           "IVA": {
            "access": "read-write",
            "bit_offset": 0,
            "bit_width": 32,
            "description": "Interrupt Vector Address Register 3"
           }
          },
          "size": 32
         },
         "IVAR[4]": {
          "access": "read-write",
          "address_offset": 272,
          "description": "Interrupt Vector Address Register 4",
          "fields": {
           "IVA": {
            "access": "read-write",
            "bit_offset": 0,
            "bit_width": 32,
            "description": "Interrupt Vector Address Register 4"
           }
          },
          "size": 32
         },
         "IVAR[5]": {
          "access": "read-write",
          "address_offset": 276,
          "description": "Interrupt Vector Address Register 5",
          "fields": {
           "IVA": {
            "access": "read-write",
            "bit_offset": 0,
            "bit_width": 32,
            "description": "Interrupt Vector Address Register 5"
           }
          },
          "size": 32
         },
         "IVAR[6]": {
          "access": "read-write",
          "address_offset": 280,
          "description": "Interrupt Vector Address Register 6",
          "fields": {
           "IVA": {
            "access": "read-write",
            "bit_offset": 0,
            "bit_width": 32,
            "description": "Interrupt Vector Address Register 6"
           }
          },
          "size": 32
         },
         "IVAR[7]": {
          "access": "read-write",
          "address_offset": 284,
          "description": "Interrupt Vector Address Register 7",
          "fields": {
           "IVA": {
            "access": "read-write",
            "bit_offset": 0,
            "bit_width": 32,
            "description": "Interrupt Vector Address Register 7"
           }
          },
          "size": 32
         },
         "IVAR[8]": {
          "access": "read-write",
          "address_offset": 288,
          "description": "Interrupt Vector Address Register 8",
          "fields": {
           "IVA": {
            "access": "read-write",
            "bit_offset": 0,
            "bit_width": 32,
            "description": "Interrupt Vector Address Register 8"
           }
          },
          "size": 32
         },
         "IVAR[9]": {
          "access": "read-write",
          "address_offset": 292,
          "description": "Interrupt Vector Address Register 9",
          "fields": {
           "IVA": {
            "access": "read-write",
            "bit_offset": 0,
            "bit_width": 32,
            "description": "Interrupt Vector Address Register 9"
           }
          },
          "size": 32
         },
         "IVEAR[0]": {
          "access": "read-write",
          "address_offset": 512,
          "description": "Interrupt Vector Address Register 0",
          "fields": {
           "IVA": {
            "access": "read-write",
            "bit_offset": 0,
            "bit_width": 32,
            "description": "Interrupt Vector Address Register 0"
           }
          },
          "size": 32
         },
         "IVEAR[10]": {
          "access": "read-write",
          "address_offset": 592,
          "description": "Interrupt Vector Address Register 10",
          "fields": {
           "IVA": {
            "access": "read-write",
            "bit_offset": 0,
            "bit_width": 32,
            "description": "Interrupt Vector Address Register 10"
           }
          },
          "size": 32
         },
         "IVEAR[11]": {
          "access": "read-write",
          "address_offset": 600,
          "description": "Interrupt Vector Address Register 11",
          "fields": {
           "IVA": {
            "access": "read-write",
            "bit_offset": 0,
            "bit_width": 32,
            "description": "Interrupt Vector Address Register 11"
           }
          },
          "size": 32
         },
         "IVEAR[12]": {
          "access": "read-write",
          "address_offset": 608,
          "description": "Interrupt Vector Address Register 12",
          "fields": {
           "IVA": {
            "access": "read-write",
            "bit_offset": 0,
            "bit_width": 32,
            "description": "Interrupt Vector Address Register 12"
           }
          },
          "size": 32
         },
         "IVEAR[13]": {
          "access": "read-write",
          "address_offset": 616,
          "description": "Interrupt Vector Address Register 13",
          "fields": {
           "IVA": {
            "access": "read-write",
            "bit_offset": 0,
            "bit_width": 32,
            "description": "Interrupt Vector Address Register 13"
           }
          },
          "size": 32
         },
         "IVEAR[14]": {
          "access": "read-write",
          "address_offset": 624,
          "description": "Interrupt Vector Address Register 14",
          "fields": {
           "IVA": {
            "access": "read-write",
            "bit_offset": 0,
            "bit_width": 32,
            "description": "Interrupt Vector Address Register 14"
           }
          },
          "size": 32
         },
         "IVEAR[15]": {
          "access": "read-write",
          "address_offset": 632,
          "description": "Interrupt Vector Address Register 15",
          "fields": {
           "IVA": {
            "access": "read-write",
            "bit_offset": 0,
            "bit_width": 32,
            "description": "Interrupt Vector Address Register 15"
           }
          },
          "size": 32
         },
         "IVEAR[16]": {
          "access": "read-write",
          "address_offset": 640,
          "description": "Interrupt Vector Address Register 16",
          "fields": {
           "IVA": {
            "access": "read-write",
            "bit_offset": 0,
            "bit_width": 32,
            "description": "Interrupt Vector Address Register 16"
           }
          },
          "size": 32
         },
         "IVEAR[17]": {
          "access": "read-write",
          "address_offset": 648,
          "description": "Interrupt Vector Address Register 17",
          "fields": {
           "IVA": {
            "access": "read-write",
            "bit_offset": 0,
            "bit_width": 32,
            "description": "Interrupt Vector Address Register 17"
           }
          },
          "size": 32
         },
         "IVEAR[18]": {
          "access": "read-write",
          "address_offset": 656,
          "description": "Interrupt Vector Address Register 18",
          "fields": {
           "IVA": {
            "access": "read-write",
            "bit_offset": 0,
            "bit_width": 32,
            "description": "Interrupt Vector Address Register 18"
           }
          },
          "size": 32
         },
         "IVEAR[19]": {
          "access": "read-write",
          "address_offset": 664,
          "description": "Interrupt Vector Address Register 19",
          "fields": {
           "IVA": {
            "access": "read-write",
            "bit_offset": 0,
            "bit_width": 32,
            "description": "Interrupt Vector Address Register 19"
           }
          },
          "size": 32
         },
         "IVEAR[1]": {
          "access": "read-write",
          "address_offset": 520,
          "description": "Interrupt Vector Address Register 1",
          "fields": {
           "IVA": {
            "access": "read-write",
            "bit_offset": 0,
            "bit_width": 32,
            "description": "Interrupt Vector Address Register 1"
           }
          },
          "size": 32
         },
         "IVEAR[20]": {
          "access": "read-write",
          "address_offset": 672,
          "description": "Interrupt Vector Address Register 20",
          "fields": {
           "IVA": {
            "access": "read-write",
            "bit_offset": 0,
            "bit_width": 32,
            "description": "Interrupt Vector Address Register 20"
           }
          },
          "size": 32
         },
         "IVEAR[21]": {
          "access": "read-write",
          "address_offset": 680,
          "description": "Interrupt Vector Address Register 21",
          "fields": {
           "IVA": {
            "access": "read-write",
            "bit_offset": 0,
            "bit_width": 32,
            "description": "Interrupt Vector Address Register 21"
           }
          },
          "size": 32
         },
         "IVEAR[22]": {
          "access": "read-write",
          "address_offset": 688,
          "description": "Interrupt Vector Address Register 22",
          "fields": {
           "IVA": {
            "access": "read-write",
            "bit_offset": 0,
            "bit_width": 32,
            "description": "Interrupt Vector Address Register 22"
           }
          },
          "size": 32
         },
         "IVEAR[23]": {
          "access": "read-write",
          "address_offset": 696,
          "description": "Interrupt Vector Address Register 23",
          "fields": {
           "IVA": {
            "access": "read-write",
            "bit_offset": 0,
            "bit_width": 32,
            "description": "Interrupt Vector Address Register 23"
           }
          },
          "size": 32
         },
         "IVEAR[24]": {
          "access": "read-write",
          "address_offset": 704,
          "description": "Interrupt Vector Address Register 24",
          "fields": {
           "IVA": {
            "access": "read-write",
            "bit_offset": 0,
            "bit_width": 32,
            "description": "Interrupt Vector Address Register 24"
           }
          },
          "size": 32
         },
         "IVEAR[25]": {
          "access": "read-write",
          "address_offset": 712,
          "description": "Interrupt Vector Address Register 25",
          "fields": {
           "IVA": {
            "access": "read-write",
            "bit_offset": 0,
            "bit_width": 32,
            "description": "Interrupt Vector Address Register 25"
           }
          },
          "size": 32
         },
         "IVEAR[26]": {
          "access": "read-write",
          "address_offset": 720,
          "description": "Interrupt Vector Address Register 26",
          "fields": {
           "IVA": {
            "access": "read-write",
            "bit_offset": 0,
            "bit_width": 32,
            "description": "Interrupt Vector Address Register 26"
           }
          },
          "size": 32
         },
         "IVEAR[27]": {
          "access": "read-write",
          "address_offset": 728,
          "description": "Interrupt Vector Address Register 27",
          "fields": {
           "IVA": {
            "access": "read-write",
            "bit_offset": 0,
            "bit_width": 32,
            "description": "Interrupt Vector Address Register 27"
           }
          },
          "size": 32
         },
         "IVEAR[28]": {
          "access": "read-write",
          "address_offset": 736,
          "description": "Interrupt Vector Address Register 28",
          "fields": {
           "IVA": {
            "access": "read-write",
            "bit_offset": 0,
            "bit_width": 32,
            "description": "Interrupt Vector Address Register 28"
           }
          },
          "size": 32
         },
         "IVEAR[29]": {
          "access": "read-write",
          "address_offset": 744,
          "description": "Interrupt Vector Address Register 29",
          "fields": {
           "IVA": {
            "access": "read-write",
            "bit_offset": 0,
            "bit_width": 32,
            "description": "Interrupt Vector Address Register 29"
           }
          },
          "size": 32
         },
         "IVEAR[2]": {
          "access": "read-write",
          "address_offset": 528,
          "description": "Interrupt Vector Address Register 2",
          "fields": {
           "IVA": {
            "access": "read-write",
            "bit_offset": 0,
            "bit_width": 32,
            "description": "Interrupt Vector Address Register 2"
           }
          },
          "size": 32
         },
         "IVEAR[30]": {
          "access": "read-write",
          "address_offset": 752,
          "description": "Interrupt Vector Address Register 30",
          "fields": {
           "IVA": {
            "access": "read-write",
            "bit_offset": 0,
            "bit_width": 32,
            "description": "Interrupt Vector Address Register 30"
           }
          },
          "size": 32
         },
         "IVEAR[31]": {
          "access": "read-write",
          "address_offset": 760,
          "description": "Interrupt Vector Address Register 31",
          "fields": {
           "IVA": {
            "access": "read-write",
            "bit_offset": 0,
            "bit_width": 32,
            "description": "Interrupt Vector Address Register 31"
           }
          },
          "size": 32
         },
         "IVEAR[3]": {
          "access": "read-write",
          "address_offset": 536,
          "description": "Interrupt Vector Address Register 3",
          "fields": {
           "IVA": {
            "access": "read-write",
            "bit_offset": 0,
            "bit_width": 32,
            "description": "Interrupt Vector Address Register 3"
           }
          },
          "size": 32
         },
         "IVEAR[4]": {
          "access": "read-write",
          "address_offset": 544,
          "description": "Interrupt Vector Address Register 4",
          "fields": {
           "IVA": {
            "access": "read-write",
            "bit_offset": 0,
            "bit_width": 32,
            "description": "Interrupt Vector Address Register 4"
           }
          },
          "size": 32
         },
         "IVEAR[5]": {
          "access": "read-write",
          "address_offset": 552,
          "description": "Interrupt Vector Address Register 5",
          "fields": {
           "IVA": {
            "access": "read-write",
            "bit_offset": 0,
            "bit_width": 32,
            "description": "Interrupt Vector Address Register 5"
           }
          },
          "size": 32
         },
         "IVEAR[6]": {
          "access": "read-write",
          "address_offset": 560,
          "description": "Interrupt Vector Address Register 6",
          "fields": {
           "IVA": {
            "access": "read-write",
            "bit_offset": 0,
            "bit_width": 32,
            "description": "Interrupt Vector Address Register 6"
           }
          },
          "size": 32
         },
         "IVEAR[7]": {
          "access": "read-write",
          "address_offset": 568,
          "description": "Interrupt Vector Address Register 7",
          "fields": {
           "IVA": {
            "access": "read-write",
            "bit_offset": 0,
            "bit_width": 32,
            "description": "Interrupt Vector Address Register 7"
           }
          },
          "size": 32
         },
         "IVEAR[8]": {
          "access": "read-write",
          "address_offset": 576,
          "description": "Interrupt Vector Address Register 8",
          "fields": {
           "IVA": {
            "access": "read-write",
            "bit_offset": 0,
            "bit_width": 32,
            "description": "Interrupt Vector Address Register 8"
           }
          },
          "size": 32
         },
         "IVEAR[9]": {
          "access": "read-write",
          "address_offset": 584,
          "description": "Interrupt Vector Address Register 9",
          "fields": {
           "IVA": {
            "access": "read-write",
            "bit_offset": 0,
            "bit_width": 32,
            "description": "Interrupt Vector Address Register 9"
           }
          },
          "size": 32
         },
         "IVR": {
          "access": "read-only",
          "address_offset": 24,
          "description": "Interrupt Vector Register",
          "fields": {
           "IVN": {
            "access": "read-only",
            "bit_offset": 0,
            "bit_width": 5,
            "description": "Interrupt Vector Register"
           }
          },
          "size": 5
         },
         "MER": {
          "access": "read-write",
          "address_offset": 28,
          "description": "Master Enable Register",
          "fields": {
           "HIE": {
            "access": "read-write",
            "bit_offset": 1,
            "bit_width": 1,
            "description": "Master Enable Register"
           },
           "ME": {
            "access": "read-write",
            "bit_offset": 0,
            "bit_width": 1,
            "description": "Master Enable Register"
           }
          },
          "size": 2
         },
         "SIE": {
          "access": "read-write",
          "address_offset": 16,
          "description": "Set Interrupt Enables",
          "fields": {
           "INT": {
            "access": "read-write",
            "bit_offset": 0,
            "bit_width": 1,
            "description": "Set Interrupt Enables"
           }
          },
          "size": 1
         }
        },
        "state": null,
        "type": "xilinx.com:ip:axi_intc:4.1"
       },
       "pl_ram_ctrl_0": {
        "addr_range": 4096,
        "device": "<pynq.pl_server.device.XlnkDevice object at 0xb0288990>",
        "driver": "<class 'pynq.overlay.DefaultIP'>",
        "fullpath": "pl_ram_ctrl_0",
        "gpio": {},
        "interrupts": {},
        "mem_id": "S00_AXI",
        "parameters": {
         "C_S00_AXI_ADDR_WIDTH": "4",
         "C_S00_AXI_BASEADDR": "0x43C00000",
         "C_S00_AXI_DATA_WIDTH": "32",
         "C_S00_AXI_HIGHADDR": "0x43C00FFF",
         "Component_Name": "top_pl_ram_ctrl_0_0",
         "EDK_IPTYPE": "PERIPHERAL"
        },
        "phys_addr": 1136656384,
        "registers": {},
        "state": null,
        "type": "xilinx.com:user:pl_ram_ctrl:2.0"
       }
      },
      "text/plain": [
       "{'axi_bram_ctrl_0': {'addr_range': 4096,\n",
       "  'device': <pynq.pl_server.device.XlnkDevice at 0xb0288990>,\n",
       "  'driver': pynq.overlay.DefaultIP,\n",
       "  'fullpath': 'axi_bram_ctrl_0',\n",
       "  'gpio': {},\n",
       "  'interrupts': {},\n",
       "  'mem_id': 'S_AXI',\n",
       "  'parameters': {'BMG_INSTANCE': 'EXTERNAL',\n",
       "   'C_BRAM_ADDR_WIDTH': '10',\n",
       "   'C_BRAM_INST_MODE': 'EXTERNAL',\n",
       "   'C_ECC': '0',\n",
       "   'C_ECC_ONOFF_RESET_VALUE': '0',\n",
       "   'C_ECC_TYPE': '0',\n",
       "   'C_FAMILY': 'zynq',\n",
       "   'C_FAULT_INJECT': '0',\n",
       "   'C_MEMORY_DEPTH': '1024',\n",
       "   'C_RD_CMD_OPTIMIZATION': '0',\n",
       "   'C_READ_LATENCY': '1',\n",
       "   'C_SINGLE_PORT_BRAM': '1',\n",
       "   'C_S_AXI_ADDR_WIDTH': '12',\n",
       "   'C_S_AXI_BASEADDR': '0x40000000',\n",
       "   'C_S_AXI_CTRL_ADDR_WIDTH': '32',\n",
       "   'C_S_AXI_CTRL_DATA_WIDTH': '32',\n",
       "   'C_S_AXI_DATA_WIDTH': '32',\n",
       "   'C_S_AXI_HIGHADDR': '0x40000FFF',\n",
       "   'C_S_AXI_ID_WIDTH': '1',\n",
       "   'C_S_AXI_PROTOCOL': 'AXI4',\n",
       "   'C_S_AXI_SUPPORTS_NARROW_BURST': '0',\n",
       "   'Component_Name': 'top_axi_bram_ctrl_0_0',\n",
       "   'DATA_WIDTH': '32',\n",
       "   'ECC_ONOFF_RESET_VALUE': '0',\n",
       "   'ECC_TYPE': '0',\n",
       "   'EDK_IPTYPE': 'PERIPHERAL',\n",
       "   'EDK_SPECIAL': 'BRAM_CTRL',\n",
       "   'FAULT_INJECT': '0',\n",
       "   'ID_WIDTH': '0',\n",
       "   'MEM_DEPTH': '1024',\n",
       "   'PROTOCOL': 'AXI4',\n",
       "   'RD_CMD_OPTIMIZATION': '0',\n",
       "   'READ_LATENCY': '1',\n",
       "   'SINGLE_PORT_BRAM': '1',\n",
       "   'SUPPORTS_NARROW_BURST': '0',\n",
       "   'USE_ECC': '0'},\n",
       "  'phys_addr': 1073741824,\n",
       "  'registers': {'CE_CNT': {'access': 'read-write',\n",
       "    'address_offset': 12,\n",
       "    'description': 'Correctable Error Counter Register',\n",
       "    'fields': {'CE_CNT': {'access': 'read-write',\n",
       "      'bit_offset': 0,\n",
       "      'bit_width': 8,\n",
       "      'description': 'Correctable Error Counter Register'}},\n",
       "    'size': 1},\n",
       "   'CE_FFA0': {'access': 'read-only',\n",
       "    'address_offset': 448,\n",
       "    'description': 'Correctable Error First Failing Address Register, bits [31:0]',\n",
       "    'fields': {'CE_FFA0': {'access': 'read-only',\n",
       "      'bit_offset': 0,\n",
       "      'bit_width': 32,\n",
       "      'description': 'Correctable Error First Failing Address Register, bits [31:0]'}},\n",
       "    'size': 1},\n",
       "   'CE_FFA1': {'access': 'read-only',\n",
       "    'address_offset': 452,\n",
       "    'description': 'Correctable Error First Failing Address Register, bits [63:32]',\n",
       "    'fields': {'CE_FFA1': {'access': 'read-only',\n",
       "      'bit_offset': 0,\n",
       "      'bit_width': 32,\n",
       "      'description': 'Correctable Error First Failing Address Register, bits [63:32]'}},\n",
       "    'size': 1},\n",
       "   'ECC_EN_IRQ': {'access': 'read-write',\n",
       "    'address_offset': 4,\n",
       "    'description': 'ECC Enable Interrupt Register',\n",
       "    'fields': {'CE_EN_IRQ': {'access': 'read-write',\n",
       "      'bit_offset': 1,\n",
       "      'bit_width': 1,\n",
       "      'description': 'ECC Enable Interrupt Register'},\n",
       "     'UE_EN_IRQ': {'access': 'read-write',\n",
       "      'bit_offset': 0,\n",
       "      'bit_width': 1,\n",
       "      'description': 'ECC Enable Interrupt Register'}},\n",
       "    'size': 1},\n",
       "   'ECC_ON_OFF': {'access': 'read-write',\n",
       "    'address_offset': 8,\n",
       "    'description': 'ECC On/Off Register',\n",
       "    'fields': {'ECC_ON_OFF': {'access': 'read-write',\n",
       "      'bit_offset': 0,\n",
       "      'bit_width': 1,\n",
       "      'description': 'ECC On/Off Register'}},\n",
       "    'size': 1},\n",
       "   'ECC_STATUS': {'access': 'read-write',\n",
       "    'address_offset': 0,\n",
       "    'description': 'ECC Status Register',\n",
       "    'fields': {'CE_STATUS': {'access': 'read-write',\n",
       "      'bit_offset': 1,\n",
       "      'bit_width': 1,\n",
       "      'description': 'ECC Status Register'},\n",
       "     'UE_STATUS': {'access': 'read-write',\n",
       "      'bit_offset': 0,\n",
       "      'bit_width': 1,\n",
       "      'description': 'ECC Status Register'}},\n",
       "    'size': 1},\n",
       "   'FI_D0': {'access': 'write-only',\n",
       "    'address_offset': 768,\n",
       "    'description': 'Fault Inject Data Register, bits[31:0]',\n",
       "    'fields': {'FI_D0': {'access': 'read-only',\n",
       "      'bit_offset': 0,\n",
       "      'bit_width': 32,\n",
       "      'description': 'Fault Inject Data Register, bits[31:0]'}},\n",
       "    'size': 1},\n",
       "   'FI_D1': {'access': 'write-only',\n",
       "    'address_offset': 772,\n",
       "    'description': 'Fault Inject Data Register, bits[63:32]',\n",
       "    'fields': {'FI_D1': {'access': 'read-only',\n",
       "      'bit_offset': 0,\n",
       "      'bit_width': 32,\n",
       "      'description': 'Fault Inject Data Register, bits[63:32]'}},\n",
       "    'size': 1},\n",
       "   'FI_D2': {'access': 'write-only',\n",
       "    'address_offset': 776,\n",
       "    'description': 'Fault Inject Data Register, bits[95:64]',\n",
       "    'fields': {'FI_D2': {'access': 'read-only',\n",
       "      'bit_offset': 0,\n",
       "      'bit_width': 32,\n",
       "      'description': 'Fault Inject Data Register, bits[95:64]'}},\n",
       "    'size': 1},\n",
       "   'FI_D3': {'access': 'write-only',\n",
       "    'address_offset': 780,\n",
       "    'description': 'Fault Inject Data Register, bits[127:96]',\n",
       "    'fields': {'FI_D3': {'access': 'read-only',\n",
       "      'bit_offset': 0,\n",
       "      'bit_width': 32,\n",
       "      'description': 'Fault Inject Data Register, bits[127:96]'}},\n",
       "    'size': 1},\n",
       "   'FI_ECC': {'access': 'write-only',\n",
       "    'address_offset': 896,\n",
       "    'description': 'Fault Inject ECC Register',\n",
       "    'fields': {'FI_ECC': {'access': 'read-only',\n",
       "      'bit_offset': 0,\n",
       "      'bit_width': 32,\n",
       "      'description': 'Fault Inject ECC Register'}},\n",
       "    'size': 1},\n",
       "   'UE_FFD1': {'access': 'read-only',\n",
       "    'address_offset': 516,\n",
       "    'description': 'Uncorrectable Error First Failing Data Register , bits [63:32]',\n",
       "    'fields': {'UE_FFD': {'access': 'read-only',\n",
       "      'bit_offset': 0,\n",
       "      'bit_width': 32,\n",
       "      'description': 'Uncorrectable Error First Failing Data Register , bits [63:32]'}},\n",
       "    'size': 1},\n",
       "   'UE_FFD2': {'access': 'read-only',\n",
       "    'address_offset': 520,\n",
       "    'description': 'Uncorrectable Error First Failing Data Register , bits [95:64]',\n",
       "    'fields': {'UE_FFD': {'access': 'read-only',\n",
       "      'bit_offset': 0,\n",
       "      'bit_width': 32,\n",
       "      'description': 'Uncorrectable Error First Failing Data Register , bits [95:64]'}},\n",
       "    'size': 1},\n",
       "   'UE_FFD3': {'access': 'read-only',\n",
       "    'address_offset': 524,\n",
       "    'description': 'Uncorrectable Error First Failing Data Register , bits [127:96]',\n",
       "    'fields': {'UE_FFD': {'access': 'read-only',\n",
       "      'bit_offset': 0,\n",
       "      'bit_width': 32,\n",
       "      'description': 'Uncorrectable Error First Failing Data Register , bits [127:96]'}},\n",
       "    'size': 1}},\n",
       "  'state': None,\n",
       "  'type': 'xilinx.com:ip:axi_bram_ctrl:4.1'},\n",
       " 'axi_gpio_0': {'addr_range': 4096,\n",
       "  'device': <pynq.pl_server.device.XlnkDevice at 0xb0288990>,\n",
       "  'driver': pynq.lib.axigpio.AxiGPIO,\n",
       "  'fullpath': 'axi_gpio_0',\n",
       "  'gpio': {},\n",
       "  'interrupts': {'ip2intc_irpt': {'controller': 'axi_intc_0',\n",
       "    'fullpath': 'axi_gpio_0/ip2intc_irpt',\n",
       "    'index': 0}},\n",
       "  'mem_id': 'S_AXI',\n",
       "  'parameters': {'C_ALL_INPUTS': '1',\n",
       "   'C_ALL_INPUTS_2': '0',\n",
       "   'C_ALL_OUTPUTS': '0',\n",
       "   'C_ALL_OUTPUTS_2': '0',\n",
       "   'C_BASEADDR': '0x41200000',\n",
       "   'C_DOUT_DEFAULT': '0x00000000',\n",
       "   'C_DOUT_DEFAULT_2': '0x00000000',\n",
       "   'C_FAMILY': 'zynq',\n",
       "   'C_GPIO2_WIDTH': '32',\n",
       "   'C_GPIO_WIDTH': '1',\n",
       "   'C_HIGHADDR': '0x41200FFF',\n",
       "   'C_INTERRUPT_PRESENT': '1',\n",
       "   'C_IS_DUAL': '0',\n",
       "   'C_S_AXI_ADDR_WIDTH': '9',\n",
       "   'C_S_AXI_DATA_WIDTH': '32',\n",
       "   'C_TRI_DEFAULT': '0xFFFFFFFF',\n",
       "   'C_TRI_DEFAULT_2': '0xFFFFFFFF',\n",
       "   'Component_Name': 'top_axi_gpio_0_0',\n",
       "   'EDK_IPTYPE': 'PERIPHERAL',\n",
       "   'GPIO2_BOARD_INTERFACE': 'Custom',\n",
       "   'GPIO_BOARD_INTERFACE': 'Custom',\n",
       "   'USE_BOARD_FLOW': 'false'},\n",
       "  'phys_addr': 1092616192,\n",
       "  'registers': {'GIER': {'access': 'read-write',\n",
       "    'address_offset': 284,\n",
       "    'description': 'Global_Interrupt_Enable register',\n",
       "    'fields': {'Global_Interrupt_Enable': {'access': 'read-write',\n",
       "      'bit_offset': 31,\n",
       "      'bit_width': 1,\n",
       "      'description': 'Global_Interrupt_Enable register'}},\n",
       "    'size': 32},\n",
       "   'GPIO2_DATA': {'access': 'read-write',\n",
       "    'address_offset': 8,\n",
       "    'description': 'Channel-2 AXI GPIO Data register',\n",
       "    'fields': {'Channel_2_GPIO_DATA': {'access': 'read-write',\n",
       "      'bit_offset': 0,\n",
       "      'bit_width': 32,\n",
       "      'description': 'Channel-2 AXI GPIO Data register'}},\n",
       "    'size': 32},\n",
       "   'GPIO2_TRI': {'access': 'read-write',\n",
       "    'address_offset': 12,\n",
       "    'description': 'Channel-2 AXI GPIO 3-State Control register',\n",
       "    'fields': {'Channel_2_GPIO_TRI': {'access': 'read-write',\n",
       "      'bit_offset': 0,\n",
       "      'bit_width': 32,\n",
       "      'description': 'Channel-2 AXI GPIO 3-State Control register'}},\n",
       "    'size': 32},\n",
       "   'GPIO_DATA': {'access': 'read-write',\n",
       "    'address_offset': 0,\n",
       "    'description': 'Channel-1 AXI GPIO Data register',\n",
       "    'fields': {'Channel_1_GPIO_DATA': {'access': 'read-write',\n",
       "      'bit_offset': 0,\n",
       "      'bit_width': 1,\n",
       "      'description': 'Channel-1 AXI GPIO Data register'}},\n",
       "    'size': 1},\n",
       "   'GPIO_TRI': {'access': 'read-write',\n",
       "    'address_offset': 4,\n",
       "    'description': 'Channel-1 AXI GPIO 3-State Control register',\n",
       "    'fields': {'Channel_1_GPIO_TRI': {'access': 'read-write',\n",
       "      'bit_offset': 0,\n",
       "      'bit_width': 1,\n",
       "      'description': 'Channel-1 AXI GPIO 3-State Control register'}},\n",
       "    'size': 1},\n",
       "   'IP_IER': {'access': 'read-write',\n",
       "    'address_offset': 296,\n",
       "    'description': 'IP Interrupt Enable register',\n",
       "    'fields': {'Channel_1_Interrupt_Enable': {'access': 'read-write',\n",
       "      'bit_offset': 0,\n",
       "      'bit_width': 1,\n",
       "      'description': 'IP Interrupt Enable register'},\n",
       "     'Channel_2_Interrupt_Enable': {'access': 'read-write',\n",
       "      'bit_offset': 1,\n",
       "      'bit_width': 1,\n",
       "      'description': 'IP Interrupt Enable register'}},\n",
       "    'size': 32},\n",
       "   'IP_ISR': {'access': 'read-write',\n",
       "    'address_offset': 288,\n",
       "    'description': 'IP Interrupt Status register',\n",
       "    'fields': {'Channel_1_Interrupt_Status': {'access': 'read-write',\n",
       "      'bit_offset': 0,\n",
       "      'bit_width': 1,\n",
       "      'description': 'IP Interrupt Status register'},\n",
       "     'Channel_2_Interrupt_Status': {'access': 'read-write',\n",
       "      'bit_offset': 1,\n",
       "      'bit_width': 1,\n",
       "      'description': 'IP Interrupt Status register'}},\n",
       "    'size': 32}},\n",
       "  'state': None,\n",
       "  'type': 'xilinx.com:ip:axi_gpio:2.0'},\n",
       " 'axi_intc_0': {'addr_range': 65536,\n",
       "  'device': <pynq.pl_server.device.XlnkDevice at 0xb0288990>,\n",
       "  'driver': pynq.overlay.DefaultIP,\n",
       "  'fullpath': 'axi_intc_0',\n",
       "  'gpio': {},\n",
       "  'interrupts': {'intr': {'controller': 'axi_intc_0',\n",
       "    'fullpath': 'axi_intc_0/intr',\n",
       "    'index': 0}},\n",
       "  'mem_id': 's_axi',\n",
       "  'parameters': {'C_ADDR_WIDTH': '32',\n",
       "   'C_ASYNC_INTR': '0xFFFFFFFE',\n",
       "   'C_BASEADDR': '0x41800000',\n",
       "   'C_CASCADE_MASTER': '0',\n",
       "   'C_DISABLE_SYNCHRONIZERS': '0',\n",
       "   'C_ENABLE_ASYNC': '0',\n",
       "   'C_EN_CASCADE_MODE': '0',\n",
       "   'C_FAMILY': 'zynq',\n",
       "   'C_HAS_CIE': '1',\n",
       "   'C_HAS_FAST': '0',\n",
       "   'C_HAS_ILR': '0',\n",
       "   'C_HAS_IPR': '1',\n",
       "   'C_HAS_IVR': '1',\n",
       "   'C_HAS_SIE': '1',\n",
       "   'C_HIGHADDR': '0x4180FFFF',\n",
       "   'C_INSTANCE': 'top_axi_intc_0_0',\n",
       "   'C_IRQ_ACTIVE': '0x1',\n",
       "   'C_IRQ_CONNECTION': '0',\n",
       "   'C_IRQ_IS_LEVEL': '1',\n",
       "   'C_IVAR_RESET_VALUE': '0x0000000000000010',\n",
       "   'C_KIND_OF_EDGE': '0xFFFFFFFF',\n",
       "   'C_KIND_OF_INTR': '0xfffffffe',\n",
       "   'C_KIND_OF_LVL': '0xFFFFFFFF',\n",
       "   'C_MB_CLK_NOT_CONNECTED': '1',\n",
       "   'C_NUM_INTR_INPUTS': '1',\n",
       "   'C_NUM_SW_INTR': '0',\n",
       "   'C_NUM_SYNC_FF': '2',\n",
       "   'C_PROCESSOR_CLK_FREQ_MHZ': '100.0',\n",
       "   'C_S_AXI_ACLK_FREQ_MHZ': '50.0',\n",
       "   'C_S_AXI_ADDR_WIDTH': '9',\n",
       "   'C_S_AXI_DATA_WIDTH': '32',\n",
       "   'Component_Name': 'top_axi_intc_0_0',\n",
       "   'EDK_IPTYPE': 'PERIPHERAL',\n",
       "   'EDK_SPECIAL': 'INTR_CTRL',\n",
       "   'Sense_of_IRQ_Edge_Type': 'Rising',\n",
       "   'Sense_of_IRQ_Level_Type': 'Active_High'},\n",
       "  'phys_addr': 1098907648,\n",
       "  'registers': {'CIE': {'access': 'read-write',\n",
       "    'address_offset': 20,\n",
       "    'description': 'Clear Interrupt Enables',\n",
       "    'fields': {'INT': {'access': 'read-write',\n",
       "      'bit_offset': 0,\n",
       "      'bit_width': 1,\n",
       "      'description': 'Clear Interrupt Enables'}},\n",
       "    'size': 1},\n",
       "   'IAR': {'access': 'write-only',\n",
       "    'address_offset': 12,\n",
       "    'description': 'Interrupt Acknowledge Register',\n",
       "    'fields': {'INT': {'access': 'write-only',\n",
       "      'bit_offset': 0,\n",
       "      'bit_width': 1,\n",
       "      'description': 'Interrupt Acknowledge Register'}},\n",
       "    'size': 1},\n",
       "   'IER': {'access': 'read-write',\n",
       "    'address_offset': 8,\n",
       "    'description': 'Interrupt Enable Register',\n",
       "    'fields': {'INT': {'access': 'read-write',\n",
       "      'bit_offset': 0,\n",
       "      'bit_width': 1,\n",
       "      'description': 'Interrupt Enable Register'}},\n",
       "    'size': 1},\n",
       "   'ILR': {'access': 'read-write',\n",
       "    'address_offset': 36,\n",
       "    'description': 'Interrupt Level Register',\n",
       "    'fields': {'ILN': {'access': 'read-write',\n",
       "      'bit_offset': 0,\n",
       "      'bit_width': 5,\n",
       "      'description': 'Interrupt Level Register'}},\n",
       "    'size': 5},\n",
       "   'IMR': {'access': 'read-write',\n",
       "    'address_offset': 32,\n",
       "    'description': 'Interrupt Mode Register',\n",
       "    'fields': {'INT': {'access': 'read-write',\n",
       "      'bit_offset': 0,\n",
       "      'bit_width': 1,\n",
       "      'description': 'Interrupt Mode Register'}},\n",
       "    'size': 1},\n",
       "   'IPR': {'access': 'read-only',\n",
       "    'address_offset': 4,\n",
       "    'description': 'Interrupt Pending Register',\n",
       "    'fields': {'INT': {'access': 'read-only',\n",
       "      'bit_offset': 0,\n",
       "      'bit_width': 1,\n",
       "      'description': 'Interrupt Pending Register'}},\n",
       "    'size': 1},\n",
       "   'ISR': {'access': 'read-write',\n",
       "    'address_offset': 0,\n",
       "    'description': 'Interrupt Status Register',\n",
       "    'fields': {'INT': {'access': 'read-write',\n",
       "      'bit_offset': 0,\n",
       "      'bit_width': 1,\n",
       "      'description': 'Interrupt Status Register'}},\n",
       "    'size': 1},\n",
       "   'IVAR[0]': {'access': 'read-write',\n",
       "    'address_offset': 256,\n",
       "    'description': 'Interrupt Vector Address Register 0',\n",
       "    'fields': {'IVA': {'access': 'read-write',\n",
       "      'bit_offset': 0,\n",
       "      'bit_width': 32,\n",
       "      'description': 'Interrupt Vector Address Register 0'}},\n",
       "    'size': 32},\n",
       "   'IVAR[10]': {'access': 'read-write',\n",
       "    'address_offset': 296,\n",
       "    'description': 'Interrupt Vector Address Register 10',\n",
       "    'fields': {'IVA': {'access': 'read-write',\n",
       "      'bit_offset': 0,\n",
       "      'bit_width': 32,\n",
       "      'description': 'Interrupt Vector Address Register 10'}},\n",
       "    'size': 32},\n",
       "   'IVAR[11]': {'access': 'read-write',\n",
       "    'address_offset': 300,\n",
       "    'description': 'Interrupt Vector Address Register 11',\n",
       "    'fields': {'IVA': {'access': 'read-write',\n",
       "      'bit_offset': 0,\n",
       "      'bit_width': 32,\n",
       "      'description': 'Interrupt Vector Address Register 11'}},\n",
       "    'size': 32},\n",
       "   'IVAR[12]': {'access': 'read-write',\n",
       "    'address_offset': 304,\n",
       "    'description': 'Interrupt Vector Address Register 12',\n",
       "    'fields': {'IVA': {'access': 'read-write',\n",
       "      'bit_offset': 0,\n",
       "      'bit_width': 32,\n",
       "      'description': 'Interrupt Vector Address Register 12'}},\n",
       "    'size': 32},\n",
       "   'IVAR[13]': {'access': 'read-write',\n",
       "    'address_offset': 308,\n",
       "    'description': 'Interrupt Vector Address Register 13',\n",
       "    'fields': {'IVA': {'access': 'read-write',\n",
       "      'bit_offset': 0,\n",
       "      'bit_width': 32,\n",
       "      'description': 'Interrupt Vector Address Register 13'}},\n",
       "    'size': 32},\n",
       "   'IVAR[14]': {'access': 'read-write',\n",
       "    'address_offset': 312,\n",
       "    'description': 'Interrupt Vector Address Register 14',\n",
       "    'fields': {'IVA': {'access': 'read-write',\n",
       "      'bit_offset': 0,\n",
       "      'bit_width': 32,\n",
       "      'description': 'Interrupt Vector Address Register 14'}},\n",
       "    'size': 32},\n",
       "   'IVAR[15]': {'access': 'read-write',\n",
       "    'address_offset': 316,\n",
       "    'description': 'Interrupt Vector Address Register 15',\n",
       "    'fields': {'IVA': {'access': 'read-write',\n",
       "      'bit_offset': 0,\n",
       "      'bit_width': 32,\n",
       "      'description': 'Interrupt Vector Address Register 15'}},\n",
       "    'size': 32},\n",
       "   'IVAR[16]': {'access': 'read-write',\n",
       "    'address_offset': 320,\n",
       "    'description': 'Interrupt Vector Address Register 16',\n",
       "    'fields': {'IVA': {'access': 'read-write',\n",
       "      'bit_offset': 0,\n",
       "      'bit_width': 32,\n",
       "      'description': 'Interrupt Vector Address Register 16'}},\n",
       "    'size': 32},\n",
       "   'IVAR[17]': {'access': 'read-write',\n",
       "    'address_offset': 324,\n",
       "    'description': 'Interrupt Vector Address Register 17',\n",
       "    'fields': {'IVA': {'access': 'read-write',\n",
       "      'bit_offset': 0,\n",
       "      'bit_width': 32,\n",
       "      'description': 'Interrupt Vector Address Register 17'}},\n",
       "    'size': 32},\n",
       "   'IVAR[18]': {'access': 'read-write',\n",
       "    'address_offset': 328,\n",
       "    'description': 'Interrupt Vector Address Register 18',\n",
       "    'fields': {'IVA': {'access': 'read-write',\n",
       "      'bit_offset': 0,\n",
       "      'bit_width': 32,\n",
       "      'description': 'Interrupt Vector Address Register 18'}},\n",
       "    'size': 32},\n",
       "   'IVAR[19]': {'access': 'read-write',\n",
       "    'address_offset': 332,\n",
       "    'description': 'Interrupt Vector Address Register 19',\n",
       "    'fields': {'IVA': {'access': 'read-write',\n",
       "      'bit_offset': 0,\n",
       "      'bit_width': 32,\n",
       "      'description': 'Interrupt Vector Address Register 19'}},\n",
       "    'size': 32},\n",
       "   'IVAR[1]': {'access': 'read-write',\n",
       "    'address_offset': 260,\n",
       "    'description': 'Interrupt Vector Address Register 1',\n",
       "    'fields': {'IVA': {'access': 'read-write',\n",
       "      'bit_offset': 0,\n",
       "      'bit_width': 32,\n",
       "      'description': 'Interrupt Vector Address Register 1'}},\n",
       "    'size': 32},\n",
       "   'IVAR[20]': {'access': 'read-write',\n",
       "    'address_offset': 336,\n",
       "    'description': 'Interrupt Vector Address Register 20',\n",
       "    'fields': {'IVA': {'access': 'read-write',\n",
       "      'bit_offset': 0,\n",
       "      'bit_width': 32,\n",
       "      'description': 'Interrupt Vector Address Register 20'}},\n",
       "    'size': 32},\n",
       "   'IVAR[21]': {'access': 'read-write',\n",
       "    'address_offset': 340,\n",
       "    'description': 'Interrupt Vector Address Register 21',\n",
       "    'fields': {'IVA': {'access': 'read-write',\n",
       "      'bit_offset': 0,\n",
       "      'bit_width': 32,\n",
       "      'description': 'Interrupt Vector Address Register 21'}},\n",
       "    'size': 32},\n",
       "   'IVAR[22]': {'access': 'read-write',\n",
       "    'address_offset': 344,\n",
       "    'description': 'Interrupt Vector Address Register 22',\n",
       "    'fields': {'IVA': {'access': 'read-write',\n",
       "      'bit_offset': 0,\n",
       "      'bit_width': 32,\n",
       "      'description': 'Interrupt Vector Address Register 22'}},\n",
       "    'size': 32},\n",
       "   'IVAR[23]': {'access': 'read-write',\n",
       "    'address_offset': 348,\n",
       "    'description': 'Interrupt Vector Address Register 23',\n",
       "    'fields': {'IVA': {'access': 'read-write',\n",
       "      'bit_offset': 0,\n",
       "      'bit_width': 32,\n",
       "      'description': 'Interrupt Vector Address Register 23'}},\n",
       "    'size': 32},\n",
       "   'IVAR[24]': {'access': 'read-write',\n",
       "    'address_offset': 352,\n",
       "    'description': 'Interrupt Vector Address Register 24',\n",
       "    'fields': {'IVA': {'access': 'read-write',\n",
       "      'bit_offset': 0,\n",
       "      'bit_width': 32,\n",
       "      'description': 'Interrupt Vector Address Register 24'}},\n",
       "    'size': 32},\n",
       "   'IVAR[25]': {'access': 'read-write',\n",
       "    'address_offset': 356,\n",
       "    'description': 'Interrupt Vector Address Register 25',\n",
       "    'fields': {'IVA': {'access': 'read-write',\n",
       "      'bit_offset': 0,\n",
       "      'bit_width': 32,\n",
       "      'description': 'Interrupt Vector Address Register 25'}},\n",
       "    'size': 32},\n",
       "   'IVAR[26]': {'access': 'read-write',\n",
       "    'address_offset': 360,\n",
       "    'description': 'Interrupt Vector Address Register 26',\n",
       "    'fields': {'IVA': {'access': 'read-write',\n",
       "      'bit_offset': 0,\n",
       "      'bit_width': 32,\n",
       "      'description': 'Interrupt Vector Address Register 26'}},\n",
       "    'size': 32},\n",
       "   'IVAR[27]': {'access': 'read-write',\n",
       "    'address_offset': 364,\n",
       "    'description': 'Interrupt Vector Address Register 27',\n",
       "    'fields': {'IVA': {'access': 'read-write',\n",
       "      'bit_offset': 0,\n",
       "      'bit_width': 32,\n",
       "      'description': 'Interrupt Vector Address Register 27'}},\n",
       "    'size': 32},\n",
       "   'IVAR[28]': {'access': 'read-write',\n",
       "    'address_offset': 368,\n",
       "    'description': 'Interrupt Vector Address Register 28',\n",
       "    'fields': {'IVA': {'access': 'read-write',\n",
       "      'bit_offset': 0,\n",
       "      'bit_width': 32,\n",
       "      'description': 'Interrupt Vector Address Register 28'}},\n",
       "    'size': 32},\n",
       "   'IVAR[29]': {'access': 'read-write',\n",
       "    'address_offset': 372,\n",
       "    'description': 'Interrupt Vector Address Register 29',\n",
       "    'fields': {'IVA': {'access': 'read-write',\n",
       "      'bit_offset': 0,\n",
       "      'bit_width': 32,\n",
       "      'description': 'Interrupt Vector Address Register 29'}},\n",
       "    'size': 32},\n",
       "   'IVAR[2]': {'access': 'read-write',\n",
       "    'address_offset': 264,\n",
       "    'description': 'Interrupt Vector Address Register 2',\n",
       "    'fields': {'IVA': {'access': 'read-write',\n",
       "      'bit_offset': 0,\n",
       "      'bit_width': 32,\n",
       "      'description': 'Interrupt Vector Address Register 2'}},\n",
       "    'size': 32},\n",
       "   'IVAR[30]': {'access': 'read-write',\n",
       "    'address_offset': 376,\n",
       "    'description': 'Interrupt Vector Address Register 30',\n",
       "    'fields': {'IVA': {'access': 'read-write',\n",
       "      'bit_offset': 0,\n",
       "      'bit_width': 32,\n",
       "      'description': 'Interrupt Vector Address Register 30'}},\n",
       "    'size': 32},\n",
       "   'IVAR[31]': {'access': 'read-write',\n",
       "    'address_offset': 380,\n",
       "    'description': 'Interrupt Vector Address Register 31',\n",
       "    'fields': {'IVA': {'access': 'read-write',\n",
       "      'bit_offset': 0,\n",
       "      'bit_width': 32,\n",
       "      'description': 'Interrupt Vector Address Register 31'}},\n",
       "    'size': 32},\n",
       "   'IVAR[3]': {'access': 'read-write',\n",
       "    'address_offset': 268,\n",
       "    'description': 'Interrupt Vector Address Register 3',\n",
       "    'fields': {'IVA': {'access': 'read-write',\n",
       "      'bit_offset': 0,\n",
       "      'bit_width': 32,\n",
       "      'description': 'Interrupt Vector Address Register 3'}},\n",
       "    'size': 32},\n",
       "   'IVAR[4]': {'access': 'read-write',\n",
       "    'address_offset': 272,\n",
       "    'description': 'Interrupt Vector Address Register 4',\n",
       "    'fields': {'IVA': {'access': 'read-write',\n",
       "      'bit_offset': 0,\n",
       "      'bit_width': 32,\n",
       "      'description': 'Interrupt Vector Address Register 4'}},\n",
       "    'size': 32},\n",
       "   'IVAR[5]': {'access': 'read-write',\n",
       "    'address_offset': 276,\n",
       "    'description': 'Interrupt Vector Address Register 5',\n",
       "    'fields': {'IVA': {'access': 'read-write',\n",
       "      'bit_offset': 0,\n",
       "      'bit_width': 32,\n",
       "      'description': 'Interrupt Vector Address Register 5'}},\n",
       "    'size': 32},\n",
       "   'IVAR[6]': {'access': 'read-write',\n",
       "    'address_offset': 280,\n",
       "    'description': 'Interrupt Vector Address Register 6',\n",
       "    'fields': {'IVA': {'access': 'read-write',\n",
       "      'bit_offset': 0,\n",
       "      'bit_width': 32,\n",
       "      'description': 'Interrupt Vector Address Register 6'}},\n",
       "    'size': 32},\n",
       "   'IVAR[7]': {'access': 'read-write',\n",
       "    'address_offset': 284,\n",
       "    'description': 'Interrupt Vector Address Register 7',\n",
       "    'fields': {'IVA': {'access': 'read-write',\n",
       "      'bit_offset': 0,\n",
       "      'bit_width': 32,\n",
       "      'description': 'Interrupt Vector Address Register 7'}},\n",
       "    'size': 32},\n",
       "   'IVAR[8]': {'access': 'read-write',\n",
       "    'address_offset': 288,\n",
       "    'description': 'Interrupt Vector Address Register 8',\n",
       "    'fields': {'IVA': {'access': 'read-write',\n",
       "      'bit_offset': 0,\n",
       "      'bit_width': 32,\n",
       "      'description': 'Interrupt Vector Address Register 8'}},\n",
       "    'size': 32},\n",
       "   'IVAR[9]': {'access': 'read-write',\n",
       "    'address_offset': 292,\n",
       "    'description': 'Interrupt Vector Address Register 9',\n",
       "    'fields': {'IVA': {'access': 'read-write',\n",
       "      'bit_offset': 0,\n",
       "      'bit_width': 32,\n",
       "      'description': 'Interrupt Vector Address Register 9'}},\n",
       "    'size': 32},\n",
       "   'IVEAR[0]': {'access': 'read-write',\n",
       "    'address_offset': 512,\n",
       "    'description': 'Interrupt Vector Address Register 0',\n",
       "    'fields': {'IVA': {'access': 'read-write',\n",
       "      'bit_offset': 0,\n",
       "      'bit_width': 32,\n",
       "      'description': 'Interrupt Vector Address Register 0'}},\n",
       "    'size': 32},\n",
       "   'IVEAR[10]': {'access': 'read-write',\n",
       "    'address_offset': 592,\n",
       "    'description': 'Interrupt Vector Address Register 10',\n",
       "    'fields': {'IVA': {'access': 'read-write',\n",
       "      'bit_offset': 0,\n",
       "      'bit_width': 32,\n",
       "      'description': 'Interrupt Vector Address Register 10'}},\n",
       "    'size': 32},\n",
       "   'IVEAR[11]': {'access': 'read-write',\n",
       "    'address_offset': 600,\n",
       "    'description': 'Interrupt Vector Address Register 11',\n",
       "    'fields': {'IVA': {'access': 'read-write',\n",
       "      'bit_offset': 0,\n",
       "      'bit_width': 32,\n",
       "      'description': 'Interrupt Vector Address Register 11'}},\n",
       "    'size': 32},\n",
       "   'IVEAR[12]': {'access': 'read-write',\n",
       "    'address_offset': 608,\n",
       "    'description': 'Interrupt Vector Address Register 12',\n",
       "    'fields': {'IVA': {'access': 'read-write',\n",
       "      'bit_offset': 0,\n",
       "      'bit_width': 32,\n",
       "      'description': 'Interrupt Vector Address Register 12'}},\n",
       "    'size': 32},\n",
       "   'IVEAR[13]': {'access': 'read-write',\n",
       "    'address_offset': 616,\n",
       "    'description': 'Interrupt Vector Address Register 13',\n",
       "    'fields': {'IVA': {'access': 'read-write',\n",
       "      'bit_offset': 0,\n",
       "      'bit_width': 32,\n",
       "      'description': 'Interrupt Vector Address Register 13'}},\n",
       "    'size': 32},\n",
       "   'IVEAR[14]': {'access': 'read-write',\n",
       "    'address_offset': 624,\n",
       "    'description': 'Interrupt Vector Address Register 14',\n",
       "    'fields': {'IVA': {'access': 'read-write',\n",
       "      'bit_offset': 0,\n",
       "      'bit_width': 32,\n",
       "      'description': 'Interrupt Vector Address Register 14'}},\n",
       "    'size': 32},\n",
       "   'IVEAR[15]': {'access': 'read-write',\n",
       "    'address_offset': 632,\n",
       "    'description': 'Interrupt Vector Address Register 15',\n",
       "    'fields': {'IVA': {'access': 'read-write',\n",
       "      'bit_offset': 0,\n",
       "      'bit_width': 32,\n",
       "      'description': 'Interrupt Vector Address Register 15'}},\n",
       "    'size': 32},\n",
       "   'IVEAR[16]': {'access': 'read-write',\n",
       "    'address_offset': 640,\n",
       "    'description': 'Interrupt Vector Address Register 16',\n",
       "    'fields': {'IVA': {'access': 'read-write',\n",
       "      'bit_offset': 0,\n",
       "      'bit_width': 32,\n",
       "      'description': 'Interrupt Vector Address Register 16'}},\n",
       "    'size': 32},\n",
       "   'IVEAR[17]': {'access': 'read-write',\n",
       "    'address_offset': 648,\n",
       "    'description': 'Interrupt Vector Address Register 17',\n",
       "    'fields': {'IVA': {'access': 'read-write',\n",
       "      'bit_offset': 0,\n",
       "      'bit_width': 32,\n",
       "      'description': 'Interrupt Vector Address Register 17'}},\n",
       "    'size': 32},\n",
       "   'IVEAR[18]': {'access': 'read-write',\n",
       "    'address_offset': 656,\n",
       "    'description': 'Interrupt Vector Address Register 18',\n",
       "    'fields': {'IVA': {'access': 'read-write',\n",
       "      'bit_offset': 0,\n",
       "      'bit_width': 32,\n",
       "      'description': 'Interrupt Vector Address Register 18'}},\n",
       "    'size': 32},\n",
       "   'IVEAR[19]': {'access': 'read-write',\n",
       "    'address_offset': 664,\n",
       "    'description': 'Interrupt Vector Address Register 19',\n",
       "    'fields': {'IVA': {'access': 'read-write',\n",
       "      'bit_offset': 0,\n",
       "      'bit_width': 32,\n",
       "      'description': 'Interrupt Vector Address Register 19'}},\n",
       "    'size': 32},\n",
       "   'IVEAR[1]': {'access': 'read-write',\n",
       "    'address_offset': 520,\n",
       "    'description': 'Interrupt Vector Address Register 1',\n",
       "    'fields': {'IVA': {'access': 'read-write',\n",
       "      'bit_offset': 0,\n",
       "      'bit_width': 32,\n",
       "      'description': 'Interrupt Vector Address Register 1'}},\n",
       "    'size': 32},\n",
       "   'IVEAR[20]': {'access': 'read-write',\n",
       "    'address_offset': 672,\n",
       "    'description': 'Interrupt Vector Address Register 20',\n",
       "    'fields': {'IVA': {'access': 'read-write',\n",
       "      'bit_offset': 0,\n",
       "      'bit_width': 32,\n",
       "      'description': 'Interrupt Vector Address Register 20'}},\n",
       "    'size': 32},\n",
       "   'IVEAR[21]': {'access': 'read-write',\n",
       "    'address_offset': 680,\n",
       "    'description': 'Interrupt Vector Address Register 21',\n",
       "    'fields': {'IVA': {'access': 'read-write',\n",
       "      'bit_offset': 0,\n",
       "      'bit_width': 32,\n",
       "      'description': 'Interrupt Vector Address Register 21'}},\n",
       "    'size': 32},\n",
       "   'IVEAR[22]': {'access': 'read-write',\n",
       "    'address_offset': 688,\n",
       "    'description': 'Interrupt Vector Address Register 22',\n",
       "    'fields': {'IVA': {'access': 'read-write',\n",
       "      'bit_offset': 0,\n",
       "      'bit_width': 32,\n",
       "      'description': 'Interrupt Vector Address Register 22'}},\n",
       "    'size': 32},\n",
       "   'IVEAR[23]': {'access': 'read-write',\n",
       "    'address_offset': 696,\n",
       "    'description': 'Interrupt Vector Address Register 23',\n",
       "    'fields': {'IVA': {'access': 'read-write',\n",
       "      'bit_offset': 0,\n",
       "      'bit_width': 32,\n",
       "      'description': 'Interrupt Vector Address Register 23'}},\n",
       "    'size': 32},\n",
       "   'IVEAR[24]': {'access': 'read-write',\n",
       "    'address_offset': 704,\n",
       "    'description': 'Interrupt Vector Address Register 24',\n",
       "    'fields': {'IVA': {'access': 'read-write',\n",
       "      'bit_offset': 0,\n",
       "      'bit_width': 32,\n",
       "      'description': 'Interrupt Vector Address Register 24'}},\n",
       "    'size': 32},\n",
       "   'IVEAR[25]': {'access': 'read-write',\n",
       "    'address_offset': 712,\n",
       "    'description': 'Interrupt Vector Address Register 25',\n",
       "    'fields': {'IVA': {'access': 'read-write',\n",
       "      'bit_offset': 0,\n",
       "      'bit_width': 32,\n",
       "      'description': 'Interrupt Vector Address Register 25'}},\n",
       "    'size': 32},\n",
       "   'IVEAR[26]': {'access': 'read-write',\n",
       "    'address_offset': 720,\n",
       "    'description': 'Interrupt Vector Address Register 26',\n",
       "    'fields': {'IVA': {'access': 'read-write',\n",
       "      'bit_offset': 0,\n",
       "      'bit_width': 32,\n",
       "      'description': 'Interrupt Vector Address Register 26'}},\n",
       "    'size': 32},\n",
       "   'IVEAR[27]': {'access': 'read-write',\n",
       "    'address_offset': 728,\n",
       "    'description': 'Interrupt Vector Address Register 27',\n",
       "    'fields': {'IVA': {'access': 'read-write',\n",
       "      'bit_offset': 0,\n",
       "      'bit_width': 32,\n",
       "      'description': 'Interrupt Vector Address Register 27'}},\n",
       "    'size': 32},\n",
       "   'IVEAR[28]': {'access': 'read-write',\n",
       "    'address_offset': 736,\n",
       "    'description': 'Interrupt Vector Address Register 28',\n",
       "    'fields': {'IVA': {'access': 'read-write',\n",
       "      'bit_offset': 0,\n",
       "      'bit_width': 32,\n",
       "      'description': 'Interrupt Vector Address Register 28'}},\n",
       "    'size': 32},\n",
       "   'IVEAR[29]': {'access': 'read-write',\n",
       "    'address_offset': 744,\n",
       "    'description': 'Interrupt Vector Address Register 29',\n",
       "    'fields': {'IVA': {'access': 'read-write',\n",
       "      'bit_offset': 0,\n",
       "      'bit_width': 32,\n",
       "      'description': 'Interrupt Vector Address Register 29'}},\n",
       "    'size': 32},\n",
       "   'IVEAR[2]': {'access': 'read-write',\n",
       "    'address_offset': 528,\n",
       "    'description': 'Interrupt Vector Address Register 2',\n",
       "    'fields': {'IVA': {'access': 'read-write',\n",
       "      'bit_offset': 0,\n",
       "      'bit_width': 32,\n",
       "      'description': 'Interrupt Vector Address Register 2'}},\n",
       "    'size': 32},\n",
       "   'IVEAR[30]': {'access': 'read-write',\n",
       "    'address_offset': 752,\n",
       "    'description': 'Interrupt Vector Address Register 30',\n",
       "    'fields': {'IVA': {'access': 'read-write',\n",
       "      'bit_offset': 0,\n",
       "      'bit_width': 32,\n",
       "      'description': 'Interrupt Vector Address Register 30'}},\n",
       "    'size': 32},\n",
       "   'IVEAR[31]': {'access': 'read-write',\n",
       "    'address_offset': 760,\n",
       "    'description': 'Interrupt Vector Address Register 31',\n",
       "    'fields': {'IVA': {'access': 'read-write',\n",
       "      'bit_offset': 0,\n",
       "      'bit_width': 32,\n",
       "      'description': 'Interrupt Vector Address Register 31'}},\n",
       "    'size': 32},\n",
       "   'IVEAR[3]': {'access': 'read-write',\n",
       "    'address_offset': 536,\n",
       "    'description': 'Interrupt Vector Address Register 3',\n",
       "    'fields': {'IVA': {'access': 'read-write',\n",
       "      'bit_offset': 0,\n",
       "      'bit_width': 32,\n",
       "      'description': 'Interrupt Vector Address Register 3'}},\n",
       "    'size': 32},\n",
       "   'IVEAR[4]': {'access': 'read-write',\n",
       "    'address_offset': 544,\n",
       "    'description': 'Interrupt Vector Address Register 4',\n",
       "    'fields': {'IVA': {'access': 'read-write',\n",
       "      'bit_offset': 0,\n",
       "      'bit_width': 32,\n",
       "      'description': 'Interrupt Vector Address Register 4'}},\n",
       "    'size': 32},\n",
       "   'IVEAR[5]': {'access': 'read-write',\n",
       "    'address_offset': 552,\n",
       "    'description': 'Interrupt Vector Address Register 5',\n",
       "    'fields': {'IVA': {'access': 'read-write',\n",
       "      'bit_offset': 0,\n",
       "      'bit_width': 32,\n",
       "      'description': 'Interrupt Vector Address Register 5'}},\n",
       "    'size': 32},\n",
       "   'IVEAR[6]': {'access': 'read-write',\n",
       "    'address_offset': 560,\n",
       "    'description': 'Interrupt Vector Address Register 6',\n",
       "    'fields': {'IVA': {'access': 'read-write',\n",
       "      'bit_offset': 0,\n",
       "      'bit_width': 32,\n",
       "      'description': 'Interrupt Vector Address Register 6'}},\n",
       "    'size': 32},\n",
       "   'IVEAR[7]': {'access': 'read-write',\n",
       "    'address_offset': 568,\n",
       "    'description': 'Interrupt Vector Address Register 7',\n",
       "    'fields': {'IVA': {'access': 'read-write',\n",
       "      'bit_offset': 0,\n",
       "      'bit_width': 32,\n",
       "      'description': 'Interrupt Vector Address Register 7'}},\n",
       "    'size': 32},\n",
       "   'IVEAR[8]': {'access': 'read-write',\n",
       "    'address_offset': 576,\n",
       "    'description': 'Interrupt Vector Address Register 8',\n",
       "    'fields': {'IVA': {'access': 'read-write',\n",
       "      'bit_offset': 0,\n",
       "      'bit_width': 32,\n",
       "      'description': 'Interrupt Vector Address Register 8'}},\n",
       "    'size': 32},\n",
       "   'IVEAR[9]': {'access': 'read-write',\n",
       "    'address_offset': 584,\n",
       "    'description': 'Interrupt Vector Address Register 9',\n",
       "    'fields': {'IVA': {'access': 'read-write',\n",
       "      'bit_offset': 0,\n",
       "      'bit_width': 32,\n",
       "      'description': 'Interrupt Vector Address Register 9'}},\n",
       "    'size': 32},\n",
       "   'IVR': {'access': 'read-only',\n",
       "    'address_offset': 24,\n",
       "    'description': 'Interrupt Vector Register',\n",
       "    'fields': {'IVN': {'access': 'read-only',\n",
       "      'bit_offset': 0,\n",
       "      'bit_width': 5,\n",
       "      'description': 'Interrupt Vector Register'}},\n",
       "    'size': 5},\n",
       "   'MER': {'access': 'read-write',\n",
       "    'address_offset': 28,\n",
       "    'description': 'Master Enable Register',\n",
       "    'fields': {'HIE': {'access': 'read-write',\n",
       "      'bit_offset': 1,\n",
       "      'bit_width': 1,\n",
       "      'description': 'Master Enable Register'},\n",
       "     'ME': {'access': 'read-write',\n",
       "      'bit_offset': 0,\n",
       "      'bit_width': 1,\n",
       "      'description': 'Master Enable Register'}},\n",
       "    'size': 2},\n",
       "   'SIE': {'access': 'read-write',\n",
       "    'address_offset': 16,\n",
       "    'description': 'Set Interrupt Enables',\n",
       "    'fields': {'INT': {'access': 'read-write',\n",
       "      'bit_offset': 0,\n",
       "      'bit_width': 1,\n",
       "      'description': 'Set Interrupt Enables'}},\n",
       "    'size': 1}},\n",
       "  'state': None,\n",
       "  'type': 'xilinx.com:ip:axi_intc:4.1'},\n",
       " 'pl_ram_ctrl_0': {'addr_range': 4096,\n",
       "  'device': <pynq.pl_server.device.XlnkDevice at 0xb0288990>,\n",
       "  'driver': pynq.overlay.DefaultIP,\n",
       "  'fullpath': 'pl_ram_ctrl_0',\n",
       "  'gpio': {},\n",
       "  'interrupts': {},\n",
       "  'mem_id': 'S00_AXI',\n",
       "  'parameters': {'C_S00_AXI_ADDR_WIDTH': '4',\n",
       "   'C_S00_AXI_BASEADDR': '0x43C00000',\n",
       "   'C_S00_AXI_DATA_WIDTH': '32',\n",
       "   'C_S00_AXI_HIGHADDR': '0x43C00FFF',\n",
       "   'Component_Name': 'top_pl_ram_ctrl_0_0',\n",
       "   'EDK_IPTYPE': 'PERIPHERAL'},\n",
       "  'phys_addr': 1136656384,\n",
       "  'registers': {},\n",
       "  'state': None,\n",
       "  'type': 'xilinx.com:user:pl_ram_ctrl:2.0'}}"
      ]
     },
     "execution_count": 72,
     "metadata": {
      "application/json": {
       "expanded": false,
       "root": "ip_dict"
      }
     },
     "output_type": "execute_result"
    }
   ],
   "source": [
    "puf.ip_dict"
   ]
  },
  {
   "cell_type": "code",
   "execution_count": 122,
   "metadata": {},
   "outputs": [],
   "source": [
    "challenges = np.random.randint(0,2**32,size=Len,dtype=np.uint32)"
   ]
  },
  {
   "cell_type": "code",
   "execution_count": 118,
   "metadata": {},
   "outputs": [],
   "source": [
    "start = np.random.randint(0,2**32,dtype=np.uint32)\n",
    "start = 2**7\n",
    "challenges = np.arange(start,start+Len,1,dtype=np.uint32)"
   ]
  },
  {
   "cell_type": "code",
   "execution_count": 119,
   "metadata": {},
   "outputs": [],
   "source": [
    "for i in range(0,50,1):\n",
    "    challenges[i] = 0"
   ]
  },
  {
   "cell_type": "code",
   "execution_count": 120,
   "metadata": {},
   "outputs": [
    {
     "data": {
      "text/plain": [
       "array([  0,   0,   0,   0,   0,   0,   0,   0,   0,   0,   0,   0,   0,\n",
       "         0,   0,   0,   0,   0,   0,   0,   0,   0,   0,   0,   0,   0,\n",
       "         0,   0,   0,   0,   0,   0,   0,   0,   0,   0,   0,   0,   0,\n",
       "         0,   0,   0,   0,   0,   0,   0,   0,   0,   0,   0, 178, 179,\n",
       "       180, 181, 182, 183, 184, 185, 186, 187, 188, 189, 190, 191, 192,\n",
       "       193, 194, 195, 196, 197, 198, 199, 200, 201, 202, 203, 204, 205,\n",
       "       206, 207, 208, 209, 210, 211, 212, 213, 214, 215, 216, 217, 218,\n",
       "       219, 220, 221, 222, 223, 224, 225, 226, 227, 228, 229, 230], dtype=uint32)"
      ]
     },
     "execution_count": 120,
     "metadata": {},
     "output_type": "execute_result"
    }
   ],
   "source": [
    "challenges"
   ]
  },
  {
   "cell_type": "code",
   "execution_count": 124,
   "metadata": {},
   "outputs": [
    {
     "name": "stdout",
     "output_type": "stream",
     "text": [
      "Done~\n"
     ]
    }
   ],
   "source": [
    "import time\n",
    "N_total = 200000\n",
    "responses = np.zeros(N_total,dtype=np.int)\n",
    "batch = valid_L\n",
    "runs = N_total // batch\n",
    "i=0\n",
    "with open(f'7puf_output2_{N_total}.txt', 'w') as file:\n",
    "    for r in range(runs):\n",
    "        challenges = np.random.randint(0,2**32,size=Len,dtype=np.uint32)\n",
    "\n",
    "        counter = 0\n",
    "        for i in range(0,BRAM_BYTENUM*Len,BRAM_BYTENUM):\n",
    "            bram.write(i,challenges[counter].tobytes())\n",
    "        #     bram.write(i,test_data[counter].tobytes())\n",
    "            counter += 1\n",
    "\n",
    "        PUF.write(8,len.tobytes())\n",
    "        PUF.write(12,0x0)\n",
    "        PUF.write(4,0x1)\n",
    "        PUF.write(0,0x1)\n",
    "\n",
    "        while(1):\n",
    "            flag = True\n",
    "            for i in range(BRAM_BYTENUM*30,BRAM_BYTENUM*40,BRAM_BYTENUM):\n",
    "                if (bram.read(i)>=2**7):\n",
    "#                     print(bram.read(i))\n",
    "                    flag = False\n",
    "                    break\n",
    "            if(flag):\n",
    "                break\n",
    "\n",
    "#         time.sleep(2)\n",
    "\n",
    "        response = []\n",
    "        count=0\n",
    "        for i in range(BRAM_BYTENUM*0,BRAM_BYTENUM*50,BRAM_BYTENUM):\n",
    "            response.append(bram.read(i))\n",
    "        #     print(f\"{count}-th responses:\",bram.read(i))\n",
    "        #     print(f\"{count}-th challenges:\",challenges[count+50]%2)\n",
    "            count+=1\n",
    "\n",
    "        valid = np.array(response[4:50]).astype(int)\n",
    "#         valid = np.array(response[4:102]).astype(int)\n",
    "        # gpio.ip2intc_irpt.wait()\n",
    "\n",
    "        # gpio_intr.wait()\n",
    "\n",
    "        for i, r in enumerate(valid):\n",
    "        #     print(f\"{challenges[i]:08X}\")\n",
    "            c = concat_uint32_to_uint64(challenges[i],challenges[i+50])\n",
    "#             c = challenges[i]\n",
    "#             print(f\"{i}-th challenge={c:016X}, response={r:07b}\")\n",
    "            file.write(f'{c:016X};{r:07b}\\n')\n",
    "    print(\"Done~\")"
   ]
  }
 ],
 "metadata": {
  "kernelspec": {
   "display_name": "Python 3",
   "language": "python",
   "name": "python3"
  },
  "language_info": {
   "codemirror_mode": {
    "name": "ipython",
    "version": 3
   },
   "file_extension": ".py",
   "mimetype": "text/x-python",
   "name": "python",
   "nbconvert_exporter": "python",
   "pygments_lexer": "ipython3",
   "version": "3.6.5"
  }
 },
 "nbformat": 4,
 "nbformat_minor": 4
}
